{
 "metadata": {
  "name": ""
 },
 "nbformat": 3,
 "nbformat_minor": 0,
 "worksheets": [
  {
   "cells": [
    {
     "cell_type": "code",
     "collapsed": false,
     "input": [
      "import sys\n",
      "import Graph\n",
      "from collections import namedtuple\n",
      "import Heuristic\n",
      "\n",
      "def Astar(start, goal, graph):\n",
      "\tclosedset = set()  #set of visited nodes    \n",
      "\topenset = {start}  #set of nodes to be evaluated  \n",
      "\tcame_from = {}  #keeps track of path\n",
      "\tg_score = {}  #the cost from the start to current\n",
      "\tf_score = {}  #the cost of g_score + the heuristic cost of current to goal\n",
      "\tg_score[start] = 0    \n",
      "\tf_score[start] = g_score[start] + Heuristic.cost_of_path(start,  goal)\n",
      "\twhile len(openset) > 0:\n",
      "\t\tlowest_cost = sys.maxint\n",
      "\t\tcurrent = None\n",
      "\t\tfor i in openset:  #find cheapest node in openset\n",
      "\t\t\tif f_score[i] < lowest_cost:\n",
      "\t\t\t\t#print i, f_score[i]\n",
      "\t\t\t\tlowest_cost = f_score[i]\n",
      "\t\t\t\tcurrent = i\n",
      "\t\tif current == goal:\n",
      "            #print \"current is equal to goal\"\n",
      "\t\t\treturn reconstruct_path(came_from, goal)         \n",
      "\t\t#print \"this is current\", current\n",
      "\t\topenset.remove(current)\n",
      "\t\tclosedset.add(current)\n",
      "\t\tif current not in came_from:\n",
      "\t\t\tcame_from[current] = [current]\n",
      "\t\telse:\n",
      "\t\t\tcame_from[current].append(current)\n",
      "\t\tfor neighbor in graph.neighbor(current):\n",
      "\t\t\t#print \"this is the neighbor\", neighbor\n",
      "\t\t\ttentative_g_score = g_score_comp(current, came_from) + Heuristic.cost_of_path(current,neighbor)\n",
      "\t\t\t# if we have processed this node already but current path is cheaper, remove so we add new path\n",
      "\t\t\tif neighbor in g_score and tentative_g_score < g_score[neighbor]:\n",
      "\t\t\t\tif neighbor in closedset:\n",
      "\t\t\t\t\tclosedset.remove(neighbor)\n",
      "\t\t\t\tif neighbor in openset:\n",
      "\t\t\t\t\topenset.remove(neighbor)\n",
      "\t\t\tif neighbor not in openset and neighbor not in closedset: \n",
      "\t\t\t\tcame_from[neighbor] = came_from[current][:]\n",
      "\t\t\t\tg_score[neighbor] = tentative_g_score\n",
      "\t\t\t\tf_score[neighbor] = g_score_comp(neighbor,came_from) + Heuristic.cost_of_path(neighbor,goal)\n",
      "\t\t\t\tif neighbor not in openset:\n",
      "\t\t\t\t\topenset.add(neighbor)\n",
      "\n",
      "def reconstruct_path(came_from, goal):\n",
      "\t#print \"returning shortest path\", came_from[goal]\n",
      "    if goal in came_from[goal]:\n",
      "        came_from[goal].append(goal)\n",
      "        #print \"returning shortest path\", came_from[goal]\n",
      "    else:\n",
      "        return came_from[goal]\n",
      "        #print \"returning shortest path\", came_from[goal]\n",
      "\n",
      "def g_score_comp(node, came_from):\n",
      "\tsumcost = 0\n",
      "\tfor n in came_from[node]:\n",
      "\t\t#print n\n",
      "\t\tsumcost += n.cost\n",
      "\treturn sumcost\n"
     ],
     "language": "python",
     "metadata": {},
     "outputs": [
      {
       "ename": "IndentationError",
       "evalue": "unindent does not match any outer indentation level (<ipython-input-3-327f18091906>, line 23)",
       "output_type": "pyerr",
       "traceback": [
        "\u001b[0;36m  File \u001b[0;32m\"<ipython-input-3-327f18091906>\"\u001b[0;36m, line \u001b[0;32m23\u001b[0m\n\u001b[0;31m    print \"current is equal to goal\"\u001b[0m\n\u001b[0m                                    ^\u001b[0m\n\u001b[0;31mIndentationError\u001b[0m\u001b[0;31m:\u001b[0m unindent does not match any outer indentation level\n"
       ]
      }
     ],
     "prompt_number": 3
    }
   ],
   "metadata": {}
  }
 ]
}