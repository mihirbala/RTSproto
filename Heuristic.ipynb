{
 "metadata": {
  "name": ""
 },
 "nbformat": 3,
 "nbformat_minor": 0,
 "worksheets": [
  {
   "cells": [
    {
     "cell_type": "code",
     "collapsed": false,
     "input": [
      "from collections import namedtuple\n",
      "from Graph import Graph\n",
      "\n",
      "node_pair_cost_map = {}\n",
      "\n",
      "def cost_of_path(node, goal):\n",
      "    if node.cost == 10000:\n",
      "        return 10000\n",
      "    else:\n",
      "        #print 'not expensive node pair', node.x, node.y\n",
      "        dx = abs(node.x - goal.x)\n",
      "        dy = abs(node.y - goal.y)\n",
      "        return 1 * (dx + dy)\n",
      "\n",
      "\n",
      "def heuristic_estimate(graph):\n",
      "    global node_pair_cost_map\n",
      "    for node1 in graph.get_nodes():\n",
      "        for node2 in graph.get_nodes():\n",
      "            node_pair_cost_map[(node1, node2)] = cost_of_path(node1, node2)\n"
     ],
     "language": "python",
     "metadata": {},
     "outputs": []
    }
   ],
   "metadata": {}
  }
 ]
}