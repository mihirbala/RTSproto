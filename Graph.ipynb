{
 "metadata": {
  "name": ""
 },
 "nbformat": 3,
 "nbformat_minor": 0,
 "worksheets": [
  {
   "cells": [
    {
     "cell_type": "code",
     "collapsed": false,
     "input": [
      "class Graph:\n",
      "    \n",
      "    def __init__(self):\n",
      "        self.nodes = set()\n",
      "        self.edges = []\n",
      "        self.node_edge_map = {}\n",
      "\n",
      "    def print_graph(self):\n",
      "        for edge in self.edges:\n",
      "            print edge['source'], \"->\", edge['target']\n",
      "            \n",
      "    def add_node(self, node):\n",
      "        self.nodes.add(node)\n",
      "\n",
      "    def add_edge(self, edge):\n",
      "        self.edges.append(edge)\n",
      "\n",
      "    def get_nodes(self):\n",
      "        return frozenset(self.nodes)\n",
      "\n",
      "    def get_edges(self):\n",
      "        return self.edges.iteritems()\n",
      "\n",
      "    def add_edge(self, source, target):\n",
      "        edge = {\n",
      "            'source' : source,\n",
      "            'target' : target,\n",
      "            }\n",
      "        self.edges.append(edge)\n",
      "        if source in self.node_edge_map:\n",
      "            self.node_edge_map[source].append(edge)\n",
      "        else:\n",
      "            self.node_edge_map[source] = [edge]\n",
      "\n",
      "    def neighbor(self, source):\n",
      "        neighbor_list = []\n",
      "        for edge in self.node_edge_map[source]:\n",
      "            neighbor_list.append(edge['target'])\n",
      "        return neighbor_list"
     ],
     "language": "python",
     "metadata": {},
     "outputs": []
    }
   ],
   "metadata": {}
  }
 ]
}